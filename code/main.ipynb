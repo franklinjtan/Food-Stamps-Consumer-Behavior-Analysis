{
 "cells": [
  {
   "cell_type": "markdown",
   "metadata": {},
   "source": [
    "# Importing necessary libaries and packages"
   ]
  },
  {
   "cell_type": "code",
   "execution_count": 126,
   "metadata": {},
   "outputs": [],
   "source": [
    "import pandas as pd\n",
    "import scipy.stats as stats\n",
    "import statsmodels.api as sm\n",
    "import matplotlib.pyplot as plt\n",
    "import seaborn as sns"
   ]
  },
  {
   "cell_type": "code",
   "execution_count": 82,
   "metadata": {},
   "outputs": [],
   "source": [
    "# Load the dataset\n",
    "df = pd.read_excel('../inputs/data.xlsx')"
   ]
  },
  {
   "cell_type": "code",
   "execution_count": 83,
   "metadata": {},
   "outputs": [
    {
     "data": {
      "text/html": [
       "<div>\n",
       "<style scoped>\n",
       "    .dataframe tbody tr th:only-of-type {\n",
       "        vertical-align: middle;\n",
       "    }\n",
       "\n",
       "    .dataframe tbody tr th {\n",
       "        vertical-align: top;\n",
       "    }\n",
       "\n",
       "    .dataframe thead th {\n",
       "        text-align: right;\n",
       "    }\n",
       "</style>\n",
       "<table border=\"1\" class=\"dataframe\">\n",
       "  <thead>\n",
       "    <tr style=\"text-align: right;\">\n",
       "      <th></th>\n",
       "      <th>Country</th>\n",
       "      <th>State</th>\n",
       "      <th>City</th>\n",
       "      <th>BUYbroccoli</th>\n",
       "      <th>BUYasparagus</th>\n",
       "      <th>BUYsquash</th>\n",
       "      <th>BUYcupcakes</th>\n",
       "      <th>BUYcheesecake</th>\n",
       "      <th>BUYdonut</th>\n",
       "      <th>BUYcocacola</th>\n",
       "      <th>...</th>\n",
       "      <th>Pvalue_Utilitarian</th>\n",
       "      <th>EBTuser</th>\n",
       "      <th>HouseholdType</th>\n",
       "      <th>Female</th>\n",
       "      <th>Age</th>\n",
       "      <th>Income</th>\n",
       "      <th>logincome</th>\n",
       "      <th>Household_size</th>\n",
       "      <th>Education</th>\n",
       "      <th>Degree</th>\n",
       "    </tr>\n",
       "  </thead>\n",
       "  <tbody>\n",
       "    <tr>\n",
       "      <th>0</th>\n",
       "      <td>United States</td>\n",
       "      <td>MN</td>\n",
       "      <td>Saint Cloud</td>\n",
       "      <td>1</td>\n",
       "      <td>1</td>\n",
       "      <td>1</td>\n",
       "      <td>1</td>\n",
       "      <td>0</td>\n",
       "      <td>1</td>\n",
       "      <td>1</td>\n",
       "      <td>...</td>\n",
       "      <td>1.50</td>\n",
       "      <td>0</td>\n",
       "      <td>Non-SNAP</td>\n",
       "      <td>0</td>\n",
       "      <td>39</td>\n",
       "      <td>95000</td>\n",
       "      <td>11.461643</td>\n",
       "      <td>4.0</td>\n",
       "      <td>2</td>\n",
       "      <td>0</td>\n",
       "    </tr>\n",
       "    <tr>\n",
       "      <th>1</th>\n",
       "      <td>United States</td>\n",
       "      <td>AR</td>\n",
       "      <td>Mountain Home</td>\n",
       "      <td>1</td>\n",
       "      <td>1</td>\n",
       "      <td>0</td>\n",
       "      <td>1</td>\n",
       "      <td>0</td>\n",
       "      <td>0</td>\n",
       "      <td>1</td>\n",
       "      <td>...</td>\n",
       "      <td>3.25</td>\n",
       "      <td>0</td>\n",
       "      <td>Non-SNAP</td>\n",
       "      <td>0</td>\n",
       "      <td>46</td>\n",
       "      <td>35000</td>\n",
       "      <td>10.463132</td>\n",
       "      <td>1.0</td>\n",
       "      <td>3</td>\n",
       "      <td>0</td>\n",
       "    </tr>\n",
       "    <tr>\n",
       "      <th>2</th>\n",
       "      <td>United States</td>\n",
       "      <td>IL</td>\n",
       "      <td>Hanover Park</td>\n",
       "      <td>0</td>\n",
       "      <td>0</td>\n",
       "      <td>0</td>\n",
       "      <td>1</td>\n",
       "      <td>1</td>\n",
       "      <td>1</td>\n",
       "      <td>1</td>\n",
       "      <td>...</td>\n",
       "      <td>4.25</td>\n",
       "      <td>0</td>\n",
       "      <td>Non-SNAP</td>\n",
       "      <td>1</td>\n",
       "      <td>27</td>\n",
       "      <td>65000</td>\n",
       "      <td>11.082158</td>\n",
       "      <td>3.0</td>\n",
       "      <td>4</td>\n",
       "      <td>0</td>\n",
       "    </tr>\n",
       "    <tr>\n",
       "      <th>3</th>\n",
       "      <td>United States</td>\n",
       "      <td>ME</td>\n",
       "      <td>Poland</td>\n",
       "      <td>1</td>\n",
       "      <td>1</td>\n",
       "      <td>1</td>\n",
       "      <td>0</td>\n",
       "      <td>0</td>\n",
       "      <td>0</td>\n",
       "      <td>0</td>\n",
       "      <td>...</td>\n",
       "      <td>2.75</td>\n",
       "      <td>0</td>\n",
       "      <td>Non-SNAP</td>\n",
       "      <td>0</td>\n",
       "      <td>33</td>\n",
       "      <td>65000</td>\n",
       "      <td>11.082158</td>\n",
       "      <td>2.0</td>\n",
       "      <td>3</td>\n",
       "      <td>0</td>\n",
       "    </tr>\n",
       "    <tr>\n",
       "      <th>4</th>\n",
       "      <td>United States</td>\n",
       "      <td>GA</td>\n",
       "      <td>Stockbridge</td>\n",
       "      <td>1</td>\n",
       "      <td>1</td>\n",
       "      <td>1</td>\n",
       "      <td>0</td>\n",
       "      <td>0</td>\n",
       "      <td>0</td>\n",
       "      <td>0</td>\n",
       "      <td>...</td>\n",
       "      <td>4.25</td>\n",
       "      <td>0</td>\n",
       "      <td>Non-SNAP</td>\n",
       "      <td>0</td>\n",
       "      <td>28</td>\n",
       "      <td>95000</td>\n",
       "      <td>11.461643</td>\n",
       "      <td>2.0</td>\n",
       "      <td>3</td>\n",
       "      <td>0</td>\n",
       "    </tr>\n",
       "  </tbody>\n",
       "</table>\n",
       "<p>5 rows × 32 columns</p>\n",
       "</div>"
      ],
      "text/plain": [
       "         Country State           City  BUYbroccoli  BUYasparagus  BUYsquash  \\\n",
       "0  United States    MN    Saint Cloud            1             1          1   \n",
       "1  United States    AR  Mountain Home            1             1          0   \n",
       "2  United States    IL   Hanover Park            0             0          0   \n",
       "3  United States    ME         Poland            1             1          1   \n",
       "4  United States    GA    Stockbridge            1             1          1   \n",
       "\n",
       "   BUYcupcakes  BUYcheesecake  BUYdonut  BUYcocacola  ...  Pvalue_Utilitarian  \\\n",
       "0            1              0         1            1  ...                1.50   \n",
       "1            1              0         0            1  ...                3.25   \n",
       "2            1              1         1            1  ...                4.25   \n",
       "3            0              0         0            0  ...                2.75   \n",
       "4            0              0         0            0  ...                4.25   \n",
       "\n",
       "   EBTuser  HouseholdType  Female  Age  Income  logincome  Household_size  \\\n",
       "0        0       Non-SNAP       0   39   95000  11.461643             4.0   \n",
       "1        0       Non-SNAP       0   46   35000  10.463132             1.0   \n",
       "2        0       Non-SNAP       1   27   65000  11.082158             3.0   \n",
       "3        0       Non-SNAP       0   33   65000  11.082158             2.0   \n",
       "4        0       Non-SNAP       0   28   95000  11.461643             2.0   \n",
       "\n",
       "   Education  Degree  \n",
       "0          2       0  \n",
       "1          3       0  \n",
       "2          4       0  \n",
       "3          3       0  \n",
       "4          3       0  \n",
       "\n",
       "[5 rows x 32 columns]"
      ]
     },
     "execution_count": 83,
     "metadata": {},
     "output_type": "execute_result"
    }
   ],
   "source": [
    "df.head()"
   ]
  },
  {
   "cell_type": "code",
   "execution_count": 84,
   "metadata": {},
   "outputs": [
    {
     "name": "stdout",
     "output_type": "stream",
     "text": [
      "<class 'pandas.core.frame.DataFrame'>\n",
      "RangeIndex: 1002 entries, 0 to 1001\n",
      "Data columns (total 32 columns):\n",
      " #   Column                         Non-Null Count  Dtype  \n",
      "---  ------                         --------------  -----  \n",
      " 0   Country                        1002 non-null   object \n",
      " 1   State                          990 non-null    object \n",
      " 2   City                           981 non-null    object \n",
      " 3   BUYbroccoli                    1002 non-null   int64  \n",
      " 4   BUYasparagus                   1002 non-null   int64  \n",
      " 5   BUYsquash                      1002 non-null   int64  \n",
      " 6   BUYcupcakes                    1002 non-null   int64  \n",
      " 7   BUYcheesecake                  1002 non-null   int64  \n",
      " 8   BUYdonut                       1002 non-null   int64  \n",
      " 9   BUYcocacola                    1002 non-null   int64  \n",
      " 10  BUYmuesli                      1002 non-null   int64  \n",
      " 11  Number_HedonicProducts         1002 non-null   int64  \n",
      " 12  Number_UtilitarianProducts     1002 non-null   int64  \n",
      " 13  TotalProducts                  1002 non-null   int64  \n",
      " 14  Hedonic_Value                  1002 non-null   float64\n",
      " 15  Utilitarian_Value              1002 non-null   float64\n",
      " 16  TotalValue                     1002 non-null   float64\n",
      " 17  Unhealthy_Hedonicproducts      1002 non-null   float64\n",
      " 18  Unhealthy_Utilitarianproducts  1002 non-null   float64\n",
      " 19  Crave_Hedonicproducts          1002 non-null   float64\n",
      " 20  Crave_Utilitarianproducts      1002 non-null   float64\n",
      " 21  Pvalue_Hedonic                 1002 non-null   float64\n",
      " 22  Pvalue_Utilitarian             1002 non-null   float64\n",
      " 23  EBTuser                        1002 non-null   int64  \n",
      " 24  HouseholdType                  1002 non-null   object \n",
      " 25  Female                         1002 non-null   int64  \n",
      " 26  Age                            1002 non-null   int64  \n",
      " 27  Income                         1002 non-null   int64  \n",
      " 28  logincome                      1002 non-null   float64\n",
      " 29  Household_size                 999 non-null    float64\n",
      " 30  Education                      1002 non-null   int64  \n",
      " 31  Degree                         1002 non-null   int64  \n",
      "dtypes: float64(11), int64(17), object(4)\n",
      "memory usage: 250.6+ KB\n"
     ]
    }
   ],
   "source": [
    "df.info()"
   ]
  },
  {
   "cell_type": "code",
   "execution_count": 85,
   "metadata": {},
   "outputs": [],
   "source": [
    "# Split the data into SNAP and non-SNAP households\n",
    "snap_data = df[df['HouseholdType'] == 'SNAP']\n",
    "non_snap_data = df[df['HouseholdType'] == 'Non-SNAP']"
   ]
  },
  {
   "cell_type": "code",
   "execution_count": 86,
   "metadata": {},
   "outputs": [
    {
     "name": "stdout",
     "output_type": "stream",
     "text": [
      "<class 'pandas.core.frame.DataFrame'>\n",
      "Int64Index: 846 entries, 0 to 1000\n",
      "Data columns (total 32 columns):\n",
      " #   Column                         Non-Null Count  Dtype  \n",
      "---  ------                         --------------  -----  \n",
      " 0   Country                        846 non-null    object \n",
      " 1   State                          837 non-null    object \n",
      " 2   City                           831 non-null    object \n",
      " 3   BUYbroccoli                    846 non-null    int64  \n",
      " 4   BUYasparagus                   846 non-null    int64  \n",
      " 5   BUYsquash                      846 non-null    int64  \n",
      " 6   BUYcupcakes                    846 non-null    int64  \n",
      " 7   BUYcheesecake                  846 non-null    int64  \n",
      " 8   BUYdonut                       846 non-null    int64  \n",
      " 9   BUYcocacola                    846 non-null    int64  \n",
      " 10  BUYmuesli                      846 non-null    int64  \n",
      " 11  Number_HedonicProducts         846 non-null    int64  \n",
      " 12  Number_UtilitarianProducts     846 non-null    int64  \n",
      " 13  TotalProducts                  846 non-null    int64  \n",
      " 14  Hedonic_Value                  846 non-null    float64\n",
      " 15  Utilitarian_Value              846 non-null    float64\n",
      " 16  TotalValue                     846 non-null    float64\n",
      " 17  Unhealthy_Hedonicproducts      846 non-null    float64\n",
      " 18  Unhealthy_Utilitarianproducts  846 non-null    float64\n",
      " 19  Crave_Hedonicproducts          846 non-null    float64\n",
      " 20  Crave_Utilitarianproducts      846 non-null    float64\n",
      " 21  Pvalue_Hedonic                 846 non-null    float64\n",
      " 22  Pvalue_Utilitarian             846 non-null    float64\n",
      " 23  EBTuser                        846 non-null    int64  \n",
      " 24  HouseholdType                  846 non-null    object \n",
      " 25  Female                         846 non-null    int64  \n",
      " 26  Age                            846 non-null    int64  \n",
      " 27  Income                         846 non-null    int64  \n",
      " 28  logincome                      846 non-null    float64\n",
      " 29  Household_size                 843 non-null    float64\n",
      " 30  Education                      846 non-null    int64  \n",
      " 31  Degree                         846 non-null    int64  \n",
      "dtypes: float64(11), int64(17), object(4)\n",
      "memory usage: 218.1+ KB\n"
     ]
    }
   ],
   "source": [
    "non_snap_data.info()"
   ]
  },
  {
   "cell_type": "markdown",
   "metadata": {},
   "source": [
    "# Q1 Does the type of food purchased by SNAP houesholds differ from those purchased by non-SNAP housesholds?"
   ]
  },
  {
   "cell_type": "markdown",
   "metadata": {},
   "source": [
    "## Perform statistical tests to compare the purchases of hedonic and utilitarian food items"
   ]
  },
  {
   "cell_type": "code",
   "execution_count": 105,
   "metadata": {},
   "outputs": [
    {
     "name": "stdout",
     "output_type": "stream",
     "text": [
      "Number of Hedonic Products:\n",
      "SNAP vs. Non-SNAP\n",
      "t-statistic: 4.922089850084236\n",
      "p-value: 1.0009968767798903e-06\n",
      "------------------------------\n",
      "Number of Utilitarian Products:\n",
      "SNAP vs. Non-SNAP\n",
      "t-statistic: -3.6058224820172438\n",
      "p-value: 0.0003265336401862399\n"
     ]
    }
   ],
   "source": [
    "from scipy.stats import ttest_ind\n",
    "\n",
    "# T-Test for Number of Hedonic Products (Assuming equal Variances)\n",
    "hedonic_snap = snap_data['Number_HedonicProducts']\n",
    "hedonic_non_snap = non_snap_data['Number_HedonicProducts']\n",
    "\n",
    "t_statistic, p_value = ttest_ind(hedonic_snap, hedonic_non_snap, equal_var=True)\n",
    "\n",
    "print(\"Number of Hedonic Products:\")\n",
    "print(\"SNAP vs. Non-SNAP\")\n",
    "print(\"t-statistic:\", t_statistic)\n",
    "print(\"p-value:\", p_value)\n",
    "print(\"------------------------------\")\n",
    "\n",
    "# T-Test for Number of Utilitarian Products (Assuming equal Variances)\n",
    "utilitarian_snap = snap_data['Number_UtilitarianProducts']\n",
    "utilitarian_non_snap = non_snap_data['Number_UtilitarianProducts']\n",
    "t_statistic, p_value = ttest_ind(utilitarian_snap, utilitarian_non_snap, equal_var=True)\n",
    "print(\"Number of Utilitarian Products:\")\n",
    "print(\"SNAP vs. Non-SNAP\")\n",
    "print(\"t-statistic:\", t_statistic)\n",
    "print(\"p-value:\", p_value)"
   ]
  },
  {
   "cell_type": "code",
   "execution_count": 88,
   "metadata": {},
   "outputs": [
    {
     "name": "stdout",
     "output_type": "stream",
     "text": [
      "                                  Category  Average Value\n",
      "0          Average Hedonic Products (SNAP)       2.019231\n",
      "1      Average Hedonic Products (Non-SNAP)       1.515366\n",
      "2      Average Utilitarian Products (SNAP)       1.801282\n",
      "3  Average Utilitarian Products (Non-SNAP)       2.122931\n"
     ]
    },
    {
     "data": {
      "image/png": "[encoded data removed]",
      "text/plain": [
       "<Figure size 720x360 with 2 Axes>"
      ]
     },
     "metadata": {
      "needs_background": "light"
     },
     "output_type": "display_data"
    }
   ],
   "source": [
    "# Calculate the average number of hedonic and utilitarian products for SNAP and non-SNAP households\n",
    "avg_hedonic_snap = snap_data['Number_HedonicProducts'].mean()\n",
    "avg_hedonic_non_snap = non_snap_data['Number_HedonicProducts'].mean()\n",
    "\n",
    "avg_utilitarian_snap = snap_data['Number_UtilitarianProducts'].mean()\n",
    "avg_utilitarian_non_snap = non_snap_data['Number_UtilitarianProducts'].mean()\n",
    "\n",
    "# Create a dictionary with the average values\n",
    "data = {\n",
    "    \"Category\": [\"Average Hedonic Products (SNAP)\", \"Average Hedonic Products (Non-SNAP)\",\n",
    "                 \"Average Utilitarian Products (SNAP)\", \"Average Utilitarian Products (Non-SNAP)\"],\n",
    "    \"Average Value\": [avg_hedonic_snap, avg_hedonic_non_snap, avg_utilitarian_snap, avg_utilitarian_non_snap]\n",
    "}\n",
    "\n",
    "# Create a dataframe from the dictionary\n",
    "df1 = pd.DataFrame(data)\n",
    "\n",
    "# Print the dataframe\n",
    "print(df1)\n",
    "\n",
    "# Create a figure with two subplots\n",
    "fig, axs = plt.subplots(1, 2, figsize=(10, 5))\n",
    "\n",
    "# Plot the average number of hedonic products\n",
    "axs[0].bar(['SNAP', 'Non-SNAP'], [avg_hedonic_snap, avg_hedonic_non_snap], color=['blue', 'orange'])\n",
    "axs[0].set_xlabel('Household Type')\n",
    "axs[0].set_ylabel('Average Number of Hedonic Products')\n",
    "axs[0].set_title('Comparison of Hedonic Products Purchased')\n",
    "\n",
    "# Plot the average number of utilitarian products\n",
    "axs[1].bar(['SNAP', 'Non-SNAP'], [avg_utilitarian_snap, avg_utilitarian_non_snap], color=['blue', 'orange'])\n",
    "axs[1].set_xlabel('Household Type')\n",
    "axs[1].set_ylabel('Average Number of Utilitarian Products')\n",
    "axs[1].set_title('Comparison of Utilitarian Products Purchased')\n",
    "\n",
    "# Adjust the spacing between subplots\n",
    "plt.tight_layout()\n",
    "\n",
    "# Display the figure\n",
    "plt.show()"
   ]
  },
  {
   "cell_type": "markdown",
   "metadata": {},
   "source": [
    "## Interpretation of Results\n",
    "\n",
    "### Number of Hedonic Products:\n",
    "* The t-statistic value of 4.922089850084236 suggests that there is a significant difference in the average number of hedonic products purchased between SNAP and non-SNAP households.\n",
    "* The positive t-statistic indicates that, on average, SNAP households tend to purchase a higher number of hedonic products compared to non-SNAP households.\n",
    "* The p-value is 1.0009968767798903e-06, which is smaller than the conventional significance level of 0.05. This indicates strong evidence to reject the null hypothesis that there is no difference in the number of hedonic products purchased by SNAP and non-SNAP households.\n",
    "\n",
    "### Number of Utilitarian Products:\n",
    "\n",
    "* The t-statistic value of -3.6058224820172438 suggests that there is a significant difference in the average number of utilitarian products purchased between SNAP and non-SNAP households.\n",
    "* The negative t-statistic indicates that, on average, SNAP households tend to purchase a lower number of utilitarian products compared to non-SNAP households.\n",
    "* The p-value is 0.0003265336401862399 (less than 0.05), indicating strong evidence to reject the null hypothesis that there is no difference in the number of utilitarian products purchased by SNAP and non-SNAP households.\n",
    "\n",
    "### Visualization\n",
    "* The comparison of Hedonic Products Purchased by Household Type shows that SNAP households purchase on average 2.02 hedonic products compared to Non-Snap households at 1.52 hedonic products.\n",
    "* The comparison of Utilitarian Products Purchased by Household Type shows that SNAP households on average purchase 1.8 utilitarian products compared to Non-Snap households at 2.12 utilitarian products.\n",
    "\n",
    "In summary, based on these results, it can be concluded that SNAP households tend to purchase a higher number of hedonic products and a lower number of utilitarian products compared to non-SNAP households."
   ]
  },
  {
   "cell_type": "markdown",
   "metadata": {},
   "source": [
    "# Q2 It is often argued that SNAP households’ food consumption habits can be attributed to their lower income and/or education. Based on these data, does income and education explain the consumption pattern of SNAP households?"
   ]
  },
  {
   "cell_type": "markdown",
   "metadata": {},
   "source": [
    "## Perform OLS regression"
   ]
  },
  {
   "cell_type": "code",
   "execution_count": 130,
   "metadata": {
    "scrolled": false
   },
   "outputs": [
    {
     "name": "stdout",
     "output_type": "stream",
     "text": [
      "Dependent Variable: Number_HedonicProducts\n",
      "                              OLS Regression Results                              \n",
      "==================================================================================\n",
      "Dep. Variable:     Number_HedonicProducts   R-squared:                       0.013\n",
      "Model:                                OLS   Adj. R-squared:                  0.000\n",
      "Method:                     Least Squares   F-statistic:                     1.027\n",
      "Date:                    Sat, 08 Jul 2023   Prob (F-statistic):              0.361\n",
      "Time:                            16:14:48   Log-Likelihood:                -236.89\n",
      "No. Observations:                     156   AIC:                             479.8\n",
      "Df Residuals:                         153   BIC:                             488.9\n",
      "Df Model:                               2                                         \n",
      "Covariance Type:                nonrobust                                         \n",
      "==============================================================================\n",
      "                 coef    std err          t      P>|t|      [0.025      0.975]\n",
      "------------------------------------------------------------------------------\n",
      "const          2.1938      0.274      8.017      0.000       1.653       2.734\n",
      "Income      3.513e-06   3.53e-06      0.995      0.321   -3.46e-06    1.05e-05\n",
      "Education     -0.0794      0.063     -1.262      0.209      -0.204       0.045\n",
      "==============================================================================\n",
      "Omnibus:                        3.070   Durbin-Watson:                   1.737\n",
      "Prob(Omnibus):                  0.215   Jarque-Bera (JB):                2.177\n",
      "Skew:                          -0.105   Prob(JB):                        0.337\n",
      "Kurtosis:                       2.461   Cond. No.                     1.55e+05\n",
      "==============================================================================\n",
      "\n",
      "Warnings:\n",
      "[1] Standard Errors assume that the covariance matrix of the errors is correctly specified.\n",
      "[2] The condition number is large, 1.55e+05. This might indicate that there are\n",
      "strong multicollinearity or other numerical problems.\n",
      "\n",
      "Dependent Variable: Hedonic_Value\n",
      "                            OLS Regression Results                            \n",
      "==============================================================================\n",
      "Dep. Variable:          Hedonic_Value   R-squared:                       0.016\n",
      "Model:                            OLS   Adj. R-squared:                  0.003\n",
      "Method:                 Least Squares   F-statistic:                     1.271\n",
      "Date:                Sat, 08 Jul 2023   Prob (F-statistic):              0.284\n",
      "Time:                        16:14:48   Log-Likelihood:                -484.63\n",
      "No. Observations:                 156   AIC:                             975.3\n",
      "Df Residuals:                     153   BIC:                             984.4\n",
      "Df Model:                           2                                         \n",
      "Covariance Type:            nonrobust                                         \n",
      "==============================================================================\n",
      "                 coef    std err          t      P>|t|      [0.025      0.975]\n",
      "------------------------------------------------------------------------------\n",
      "const         10.0738      1.339      7.522      0.000       7.428      12.720\n",
      "Income      2.071e-05   1.73e-05      1.199      0.233   -1.34e-05    5.48e-05\n",
      "Education     -0.4115      0.308     -1.337      0.183      -1.020       0.197\n",
      "==============================================================================\n",
      "Omnibus:                        7.369   Durbin-Watson:                   1.677\n",
      "Prob(Omnibus):                  0.025   Jarque-Bera (JB):                3.461\n",
      "Skew:                           0.016   Prob(JB):                        0.177\n",
      "Kurtosis:                       2.271   Cond. No.                     1.55e+05\n",
      "==============================================================================\n",
      "\n",
      "Warnings:\n",
      "[1] Standard Errors assume that the covariance matrix of the errors is correctly specified.\n",
      "[2] The condition number is large, 1.55e+05. This might indicate that there are\n",
      "strong multicollinearity or other numerical problems.\n",
      "\n"
     ]
    }
   ],
   "source": [
    "# Prepare the independent variables (income and education)\n",
    "independent_vars = ['Income', 'Education']\n",
    "\n",
    "# Prepare the dependent variables (consumption patterns)\n",
    "dependent_vars = ['Number_HedonicProducts', 'Hedonic_Value']\n",
    "\n",
    "# Subset the data for SNAP households\n",
    "snap_data_subset = snap_data[independent_vars + dependent_vars].dropna()\n",
    "\n",
    "# Add a constant term to the independent variables\n",
    "independent_vars_with_const = sm.add_constant(snap_data_subset[independent_vars])\n",
    "\n",
    "# Perform multiple linear regression for each dependent variable\n",
    "for var in dependent_vars:\n",
    "    model = sm.OLS(snap_data_subset[var], independent_vars_with_const)\n",
    "    results = model.fit()\n",
    "\n",
    "    print(f\"Dependent Variable: {var}\")\n",
    "    print(results.summary())\n",
    "    print()\n"
   ]
  },
  {
   "cell_type": "markdown",
   "metadata": {},
   "source": [
    "## Interpretation of Results\n",
    "\n",
    "Based on the statistical analysis results, the p-values for both income and education exceed the conventional significance level of 0.05 for all dependent variables. **Therefore, income and education are not statistically significant predictors of the consumption patterns of SNAP households, and we fail to reject the null hypothesis.** In other words, the results suggest that there is no statistically significant relationship between education or income and the consumption patterns of SNAP households. It is important to note that any observed associations between education or income and the dependent variables could be due to chance or random variation.\n",
    "\n",
    "* Specifically, for the dependent variable \"Number_HedonicProducts\", neither income (p-value = 0.321) nor education (p-value = 0.209) demonstrate a significant relationship. \n",
    "\n",
    "* Similarly, for \"Number_UtilitarianProducts\", both income (p-value = 0.307) and education (p-value = 0.336) do not have a statistically significant impact on the consumption pattern. \n",
    "\n",
    "* The same lack of significance holds true for \"Hedonic_Value\" (income p-value = 0.233, education p-value = 0.183) and \"Utilitarian_Value\" (income p-value = 0.292, education p-value = 0.455).\n",
    "\n",
    "Consequently, based on these findings, we cannot conclude that the consumption patterns of SNAP households can be solely explained by income and education. It is likely that other unexplored factors or variables play a more influential role in determining the consumption patterns of SNAP households. Further investigation is needed to identify these additional factors and understand their impact."
   ]
  },
  {
   "cell_type": "markdown",
   "metadata": {},
   "source": [
    "# Q3 It is often argued that SNAP households purchase more hedonic food because they consider it better value for money compared to utilitarian food. Based on these data, do SNAP households consider hedonic food to be better value for money than utilitarian food?"
   ]
  },
  {
   "cell_type": "code",
   "execution_count": 118,
   "metadata": {},
   "outputs": [
    {
     "name": "stdout",
     "output_type": "stream",
     "text": [
      "Average P-value rating for Hedonic Products: 2.9294871794871793\n",
      "Average P-value rating for Utilitarian Products: 2.996794871794872\n",
      "t-statistic: -0.6005569298339003\n",
      "p-value: 0.5485739325313339\n"
     ]
    },
    {
     "data": {
      "image/png": "[encoded data removed]",
      "text/plain": [
       "<Figure size 432x288 with 1 Axes>"
      ]
     },
     "metadata": {
      "needs_background": "light"
     },
     "output_type": "display_data"
    }
   ],
   "source": [
    "# Calculate the average ratings for hedonic and utilitarian products\n",
    "avg_pvalue_hedonic = snap_data['Pvalue_Hedonic'].mean()\n",
    "avg_pvalue_utilitarian = snap_data['Pvalue_Utilitarian'].mean()\n",
    "\n",
    "# Perform a t-test to compare the ratings\n",
    "t_statistic, p_value = stats.ttest_ind(snap_data['Pvalue_Hedonic'], \n",
    "                                       snap_data['Pvalue_Utilitarian'], equal_var=True)\n",
    "\n",
    "# Print the results\n",
    "print(\"Average P-value rating for Hedonic Products:\", avg_pvalue_hedonic)\n",
    "print(\"Average P-value rating for Utilitarian Products:\", avg_pvalue_utilitarian)\n",
    "print(\"t-statistic:\", t_statistic)\n",
    "print(\"p-value:\", p_value)\n",
    "\n",
    "# Calculate the average P-value ratings for hedonic and utilitarian products\n",
    "avg_pvalue_hedonic = snap_data['Pvalue_Hedonic'].mean()\n",
    "avg_pvalue_utilitarian = snap_data['Pvalue_Utilitarian'].mean()\n",
    "\n",
    "# Create a dictionary with the average values\n",
    "data = {\n",
    "    \"Category\": [\"Hedonic Products\", \"Utilitarian Products\"],\n",
    "    \"Average Value\": [avg_pvalue_hedonic, avg_pvalue_utilitarian]\n",
    "}\n",
    "\n",
    "# Create a DataFrame from the dictionary\n",
    "df = pd.DataFrame(data)\n",
    "\n",
    "# Create a bar plot\n",
    "plt.bar(df['Category'], df['Average Value'], color=['blue', 'orange'])\n",
    "plt.xlabel('Category')\n",
    "plt.ylabel('Average Value')\n",
    "plt.title('Comparison of P-value Ratings: Hedonic vs Utilitarian Products for SNAP households')\n",
    "\n",
    "# Display the plot\n",
    "plt.show()"
   ]
  },
  {
   "cell_type": "markdown",
   "metadata": {},
   "source": [
    "## Interpretation of Results\n"
   ]
  },
  {
   "cell_type": "markdown",
   "metadata": {},
   "source": [
    "# Q4 Do SNAP households’ unhealthiness perceptions of the food differ from non-SNAP households?"
   ]
  },
  {
   "cell_type": "code",
   "execution_count": 132,
   "metadata": {},
   "outputs": [
    {
     "name": "stdout",
     "output_type": "stream",
     "text": [
      "Average Unhealthiness Rating (SNAP): 4.086538461538462\n",
      "Average Unhealthiness Rating (Non-SNAP): 4.671099290780142\n",
      "t-statistic: -9.097931312831586\n",
      "p-value: 4.8583698337186665e-19\n",
      "--------------------------\n",
      "Average Unhealthiness Rating for Utilitarian Products (SNAP): 1.6137820512820513\n",
      "Average Unhealthiness Rating for Utilitarian Products (Non-SNAP): 1.4979314420803782\n",
      "t-statistic: 2.6063694353218607\n",
      "p-value: 0.009286869923269995\n"
     ]
    },
    {
     "data": {
      "image/png": "[encoded data removed]",
      "text/plain": [
       "<Figure size 432x288 with 1 Axes>"
      ]
     },
     "metadata": {
      "needs_background": "light"
     },
     "output_type": "display_data"
    },
    {
     "data": {
      "text/plain": [
       "Text(0.5, 1.0, 'Comparison of Unhealthiness Ratings for Utilitarian Products: SNAP vs Non-SNAP')"
      ]
     },
     "execution_count": 132,
     "metadata": {},
     "output_type": "execute_result"
    },
    {
     "data": {
      "image/png": "[encoded data removed]",
      "text/plain": [
       "<Figure size 432x288 with 1 Axes>"
      ]
     },
     "metadata": {
      "needs_background": "light"
     },
     "output_type": "display_data"
    }
   ],
   "source": [
    "# Calculate the average unhealthiness ratings for SNAP and non-SNAP households\n",
    "avg_unhealthiness_snap_hedonic = snap_data['Unhealthy_Hedonicproducts'].mean()\n",
    "avg_unhealthiness_non_snap_hedonic = non_snap_data['Unhealthy_Hedonicproducts'].mean()\n",
    "\n",
    "# Calculate the average unhealthiness ratings for SNAP and non-SNAP households for Utilitarian products\n",
    "avg_unhealthiness_snap_util = snap_data['Unhealthy_Utilitarianproducts'].mean()\n",
    "avg_unhealthiness_non_snap_util = non_snap_data['Unhealthy_Utilitarianproducts'].mean()\n",
    "\n",
    "# Perform a t-test to compare the ratings\n",
    "t_statistic, p_value = stats.ttest_ind(snap_data['Unhealthy_Hedonicproducts'], \n",
    "                                       non_snap_data['Unhealthy_Hedonicproducts'], equal_var=True)\n",
    "# Print the results\n",
    "print(\"Average Unhealthiness Rating (SNAP):\", avg_unhealthiness_snap_hedonic)\n",
    "print(\"Average Unhealthiness Rating (Non-SNAP):\", avg_unhealthiness_non_snap_hedonic)\n",
    "print(\"t-statistic:\", t_statistic)\n",
    "print(\"p-value:\", p_value)\n",
    "print(\"--------------------------\")\n",
    "\n",
    "# Perform a t-test to compare the ratings for Utilitarian products\n",
    "t_statistic, p_value = stats.ttest_ind(snap_data['Unhealthy_Utilitarianproducts'], \n",
    "                                       non_snap_data['Unhealthy_Utilitarianproducts'], equal_var=True)\n",
    "print(\"Average Unhealthiness Rating for Utilitarian Products (SNAP):\", avg_unhealthiness_snap_util)\n",
    "print(\"Average Unhealthiness Rating for Utilitarian Products (Non-SNAP):\", avg_unhealthiness_non_snap_util)\n",
    "print(\"t-statistic:\", t_statistic)\n",
    "print(\"p-value:\", p_value)\n",
    "\n",
    "\n",
    "\n",
    "# Create a dictionary with the average values\n",
    "data1 = {\n",
    "    \"Category\": [\"SNAP\", \"Non-SNAP\"],\n",
    "    \"Average Unhealthiness Rating\": [avg_unhealthiness_snap_hedonic, avg_unhealthiness_non_snap_hedonic]\n",
    "}\n",
    "\n",
    "# Create a DataFrame from the dictionary\n",
    "df = pd.DataFrame(data1)\n",
    "\n",
    "# Create a bar plot\n",
    "plt.bar(df['Category'], df['Average Unhealthiness Rating'], color=['blue', 'orange'])\n",
    "plt.xlabel('Household Type')\n",
    "plt.ylabel('Average Unhealthiness Rating')\n",
    "plt.title('Comparison of Unhealthiness Ratings: SNAP vs Non-SNAP')\n",
    "\n",
    "# Display the plot\n",
    "plt.show()\n",
    "\n",
    "\n",
    "data2 = {\n",
    "    \"Category\": [\"SNAP\", \"Non-SNAP\"],\n",
    "    \"Average Unhealthiness Rating for Utilitarian Products\": [avg_unhealthiness_snap, avg_unhealthiness_non_snap]\n",
    "}\n",
    "\n",
    "df = pd.DataFrame(data2)\n",
    "\n",
    "plt.bar(df['Category'], df['Average Unhealthiness Rating for Utilitarian Products'], color=['blue', 'orange'])\n",
    "plt.xlabel('Household Type')\n",
    "plt.ylabel('Average Unhealthiness Rating')\n",
    "plt.title('Comparison of Unhealthiness Ratings for Utilitarian Products: SNAP vs Non-SNAP')"
   ]
  },
  {
   "cell_type": "markdown",
   "metadata": {},
   "source": [
    "# Q5 Do SNAP households’ reports of food craving differ from non-SNAP households?"
   ]
  },
  {
   "cell_type": "code",
   "execution_count": 123,
   "metadata": {},
   "outputs": [
    {
     "name": "stdout",
     "output_type": "stream",
     "text": [
      "Average Craving Rating (SNAP): 3.030448717948718\n",
      "Average Craving Rating (Non-SNAP): 2.6217494089834514\n",
      "t-statistic: 4.551769666294766\n",
      "p-value: 5.973531475415773e-06\n"
     ]
    },
    {
     "data": {
      "image/png": "[encoded data removed]",
      "text/plain": [
       "<Figure size 432x288 with 1 Axes>"
      ]
     },
     "metadata": {
      "needs_background": "light"
     },
     "output_type": "display_data"
    }
   ],
   "source": [
    "# Calculate the average craving ratings for SNAP and non-SNAP households\n",
    "avg_craving_snap = snap_data['Crave_Hedonicproducts'].mean()\n",
    "avg_craving_non_snap = non_snap_data['Crave_Hedonicproducts'].mean()\n",
    "\n",
    "# Perform a t-test to compare the ratings\n",
    "t_statistic, p_value = stats.ttest_ind(snap_data['Crave_Hedonicproducts'], \n",
    "                                       non_snap_data['Crave_Hedonicproducts'],equal_var=True)\n",
    "\n",
    "# Print the results\n",
    "print(\"Average Craving Rating (SNAP):\", avg_craving_snap)\n",
    "print(\"Average Craving Rating (Non-SNAP):\", avg_craving_non_snap)\n",
    "print(\"t-statistic:\", t_statistic)\n",
    "print(\"p-value:\", p_value)\n",
    "\n",
    "# Create a bar plot\n",
    "plt.bar(['SNAP', 'Non-SNAP'], [avg_craving_snap, avg_craving_non_snap], color=['blue', 'orange'])\n",
    "plt.xlabel('Household Type')\n",
    "plt.ylabel('Average Craving Rating')\n",
    "plt.title('Comparison of Craving Ratings: SNAP vs Non-SNAP')\n",
    "plt.show()"
   ]
  },
  {
   "cell_type": "markdown",
   "metadata": {},
   "source": [
    "# Q6 This question pertains only to hedonic food, you can ignore utilitarian food. How is craving for hedonic food related to perceptions of its unhealthiness? Does the relationship between craving and unhealthiness perception vary for SNAP and non-SNAP households?"
   ]
  },
  {
   "cell_type": "code",
   "execution_count": 128,
   "metadata": {},
   "outputs": [
    {
     "data": {
      "image/png": "[encoded data removed]",
      "text/plain": [
       "<Figure size 432x288 with 1 Axes>"
      ]
     },
     "metadata": {
      "needs_background": "light"
     },
     "output_type": "display_data"
    },
    {
     "data": {
      "image/png": "[encoded data removed]",
      "text/plain": [
       "<Figure size 432x288 with 1 Axes>"
      ]
     },
     "metadata": {
      "needs_background": "light"
     },
     "output_type": "display_data"
    },
    {
     "name": "stdout",
     "output_type": "stream",
     "text": [
      "Correlation (SNAP): -0.507515608940843\n",
      "Correlation (Non-SNAP): -0.07704964961487347\n"
     ]
    }
   ],
   "source": [
    "# Subset the data for hedonic food and SNAP households\n",
    "snap_hedonic_data = snap_data[snap_data['Hedonic_Value'] > 0]\n",
    "\n",
    "# Calculate the correlation between craving and unhealthiness perception for SNAP households\n",
    "snap_corr = snap_hedonic_data['Crave_Hedonicproducts'].corr(snap_hedonic_data['Unhealthy_Hedonicproducts'])\n",
    "\n",
    "# Create a scatter plot with regression line for SNAP households\n",
    "sns.regplot(x='Crave_Hedonicproducts', y='Unhealthy_Hedonicproducts', data=snap_hedonic_data)\n",
    "plt.title('Craving vs. Unhealthiness Perception: SNAP Households')\n",
    "plt.xlabel('Craving for Hedonic Food')\n",
    "plt.ylabel('Unhealthiness Perception')\n",
    "plt.show()\n",
    "\n",
    "# Subset the data for hedonic food and non-SNAP households\n",
    "non_snap_hedonic_data = non_snap_data[non_snap_data['Hedonic_Value'] > 0]\n",
    "\n",
    "# Calculate the correlation between craving and unhealthiness perception for non-SNAP households\n",
    "non_snap_corr = non_snap_hedonic_data['Crave_Hedonicproducts'].corr(non_snap_hedonic_data['Unhealthy_Hedonicproducts'])\n",
    "\n",
    "# Create a scatter plot with regression line for non-SNAP households\n",
    "sns.regplot(x='Crave_Hedonicproducts', y='Unhealthy_Hedonicproducts', data=non_snap_hedonic_data)\n",
    "plt.title('Craving vs. Unhealthiness Perception: Non-SNAP Households')\n",
    "plt.xlabel('Craving for Hedonic Food')\n",
    "plt.ylabel('Unhealthiness Perception')\n",
    "plt.show()\n",
    "\n",
    "# Print the correlation coefficients\n",
    "print(\"Correlation (SNAP):\", snap_corr)\n",
    "print(\"Correlation (Non-SNAP):\", non_snap_corr)"
   ]
  },
  {
   "cell_type": "code",
   "execution_count": null,
   "metadata": {},
   "outputs": [],
   "source": []
  }
 ],
 "metadata": {
  "kernelspec": {
   "display_name": "Python 3",
   "language": "python",
   "name": "python3"
  },
  "language_info": {
   "codemirror_mode": {
    "name": "ipython",
    "version": 3
   },
   "file_extension": ".py",
   "mimetype": "text/x-python",
   "name": "python",
   "nbconvert_exporter": "python",
   "pygments_lexer": "ipython3",
   "version": "3.8.3"
  }
 },
 "nbformat": 4,
 "nbformat_minor": 5
}