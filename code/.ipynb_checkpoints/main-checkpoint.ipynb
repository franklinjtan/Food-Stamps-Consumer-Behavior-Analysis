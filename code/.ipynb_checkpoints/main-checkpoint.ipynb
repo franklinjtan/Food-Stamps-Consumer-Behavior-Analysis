{
 "cells": [
  {
   "cell_type": "markdown",
   "metadata": {},
   "source": [
    "# Importing necessary libaries and packages"
   ]
  },
  {
   "cell_type": "code",
   "execution_count": 34,
   "metadata": {},
   "outputs": [],
   "source": [
    "import pandas as pd\n",
    "import scipy.stats as stats\n",
    "import statsmodels.api as sm\n",
    "import matplotlib.pyplot as plt"
   ]
  },
  {
   "cell_type": "code",
   "execution_count": 35,
   "metadata": {},
   "outputs": [],
   "source": [
    "# Load the dataset\n",
    "df = pd.read_excel('../inputs/data.xlsx')"
   ]
  },
  {
   "cell_type": "code",
   "execution_count": 36,
   "metadata": {},
   "outputs": [
    {
     "data": {
      "text/html": [
       "<div>\n",
       "<style scoped>\n",
       "    .dataframe tbody tr th:only-of-type {\n",
       "        vertical-align: middle;\n",
       "    }\n",
       "\n",
       "    .dataframe tbody tr th {\n",
       "        vertical-align: top;\n",
       "    }\n",
       "\n",
       "    .dataframe thead th {\n",
       "        text-align: right;\n",
       "    }\n",
       "</style>\n",
       "<table border=\"1\" class=\"dataframe\">\n",
       "  <thead>\n",
       "    <tr style=\"text-align: right;\">\n",
       "      <th></th>\n",
       "      <th>Country</th>\n",
       "      <th>State</th>\n",
       "      <th>City</th>\n",
       "      <th>BUYbroccoli</th>\n",
       "      <th>BUYasparagus</th>\n",
       "      <th>BUYsquash</th>\n",
       "      <th>BUYcupcakes</th>\n",
       "      <th>BUYcheesecake</th>\n",
       "      <th>BUYdonut</th>\n",
       "      <th>BUYcocacola</th>\n",
       "      <th>...</th>\n",
       "      <th>Pvalue_Utilitarian</th>\n",
       "      <th>EBTuser</th>\n",
       "      <th>HouseholdType</th>\n",
       "      <th>Female</th>\n",
       "      <th>Age</th>\n",
       "      <th>Income</th>\n",
       "      <th>logincome</th>\n",
       "      <th>Household_size</th>\n",
       "      <th>Education</th>\n",
       "      <th>Degree</th>\n",
       "    </tr>\n",
       "  </thead>\n",
       "  <tbody>\n",
       "    <tr>\n",
       "      <th>0</th>\n",
       "      <td>United States</td>\n",
       "      <td>MN</td>\n",
       "      <td>Saint Cloud</td>\n",
       "      <td>1</td>\n",
       "      <td>1</td>\n",
       "      <td>1</td>\n",
       "      <td>1</td>\n",
       "      <td>0</td>\n",
       "      <td>1</td>\n",
       "      <td>1</td>\n",
       "      <td>...</td>\n",
       "      <td>1.50</td>\n",
       "      <td>0</td>\n",
       "      <td>Non-SNAP</td>\n",
       "      <td>0</td>\n",
       "      <td>39</td>\n",
       "      <td>95000</td>\n",
       "      <td>11.461643</td>\n",
       "      <td>4.0</td>\n",
       "      <td>2</td>\n",
       "      <td>0</td>\n",
       "    </tr>\n",
       "    <tr>\n",
       "      <th>1</th>\n",
       "      <td>United States</td>\n",
       "      <td>AR</td>\n",
       "      <td>Mountain Home</td>\n",
       "      <td>1</td>\n",
       "      <td>1</td>\n",
       "      <td>0</td>\n",
       "      <td>1</td>\n",
       "      <td>0</td>\n",
       "      <td>0</td>\n",
       "      <td>1</td>\n",
       "      <td>...</td>\n",
       "      <td>3.25</td>\n",
       "      <td>0</td>\n",
       "      <td>Non-SNAP</td>\n",
       "      <td>0</td>\n",
       "      <td>46</td>\n",
       "      <td>35000</td>\n",
       "      <td>10.463132</td>\n",
       "      <td>1.0</td>\n",
       "      <td>3</td>\n",
       "      <td>0</td>\n",
       "    </tr>\n",
       "    <tr>\n",
       "      <th>2</th>\n",
       "      <td>United States</td>\n",
       "      <td>IL</td>\n",
       "      <td>Hanover Park</td>\n",
       "      <td>0</td>\n",
       "      <td>0</td>\n",
       "      <td>0</td>\n",
       "      <td>1</td>\n",
       "      <td>1</td>\n",
       "      <td>1</td>\n",
       "      <td>1</td>\n",
       "      <td>...</td>\n",
       "      <td>4.25</td>\n",
       "      <td>0</td>\n",
       "      <td>Non-SNAP</td>\n",
       "      <td>1</td>\n",
       "      <td>27</td>\n",
       "      <td>65000</td>\n",
       "      <td>11.082158</td>\n",
       "      <td>3.0</td>\n",
       "      <td>4</td>\n",
       "      <td>0</td>\n",
       "    </tr>\n",
       "    <tr>\n",
       "      <th>3</th>\n",
       "      <td>United States</td>\n",
       "      <td>ME</td>\n",
       "      <td>Poland</td>\n",
       "      <td>1</td>\n",
       "      <td>1</td>\n",
       "      <td>1</td>\n",
       "      <td>0</td>\n",
       "      <td>0</td>\n",
       "      <td>0</td>\n",
       "      <td>0</td>\n",
       "      <td>...</td>\n",
       "      <td>2.75</td>\n",
       "      <td>0</td>\n",
       "      <td>Non-SNAP</td>\n",
       "      <td>0</td>\n",
       "      <td>33</td>\n",
       "      <td>65000</td>\n",
       "      <td>11.082158</td>\n",
       "      <td>2.0</td>\n",
       "      <td>3</td>\n",
       "      <td>0</td>\n",
       "    </tr>\n",
       "    <tr>\n",
       "      <th>4</th>\n",
       "      <td>United States</td>\n",
       "      <td>GA</td>\n",
       "      <td>Stockbridge</td>\n",
       "      <td>1</td>\n",
       "      <td>1</td>\n",
       "      <td>1</td>\n",
       "      <td>0</td>\n",
       "      <td>0</td>\n",
       "      <td>0</td>\n",
       "      <td>0</td>\n",
       "      <td>...</td>\n",
       "      <td>4.25</td>\n",
       "      <td>0</td>\n",
       "      <td>Non-SNAP</td>\n",
       "      <td>0</td>\n",
       "      <td>28</td>\n",
       "      <td>95000</td>\n",
       "      <td>11.461643</td>\n",
       "      <td>2.0</td>\n",
       "      <td>3</td>\n",
       "      <td>0</td>\n",
       "    </tr>\n",
       "  </tbody>\n",
       "</table>\n",
       "<p>5 rows × 32 columns</p>\n",
       "</div>"
      ],
      "text/plain": [
       "         Country State           City  BUYbroccoli  BUYasparagus  BUYsquash  \\\n",
       "0  United States    MN    Saint Cloud            1             1          1   \n",
       "1  United States    AR  Mountain Home            1             1          0   \n",
       "2  United States    IL   Hanover Park            0             0          0   \n",
       "3  United States    ME         Poland            1             1          1   \n",
       "4  United States    GA    Stockbridge            1             1          1   \n",
       "\n",
       "   BUYcupcakes  BUYcheesecake  BUYdonut  BUYcocacola  ...  Pvalue_Utilitarian  \\\n",
       "0            1              0         1            1  ...                1.50   \n",
       "1            1              0         0            1  ...                3.25   \n",
       "2            1              1         1            1  ...                4.25   \n",
       "3            0              0         0            0  ...                2.75   \n",
       "4            0              0         0            0  ...                4.25   \n",
       "\n",
       "   EBTuser  HouseholdType  Female  Age  Income  logincome  Household_size  \\\n",
       "0        0       Non-SNAP       0   39   95000  11.461643             4.0   \n",
       "1        0       Non-SNAP       0   46   35000  10.463132             1.0   \n",
       "2        0       Non-SNAP       1   27   65000  11.082158             3.0   \n",
       "3        0       Non-SNAP       0   33   65000  11.082158             2.0   \n",
       "4        0       Non-SNAP       0   28   95000  11.461643             2.0   \n",
       "\n",
       "   Education  Degree  \n",
       "0          2       0  \n",
       "1          3       0  \n",
       "2          4       0  \n",
       "3          3       0  \n",
       "4          3       0  \n",
       "\n",
       "[5 rows x 32 columns]"
      ]
     },
     "execution_count": 36,
     "metadata": {},
     "output_type": "execute_result"
    }
   ],
   "source": [
    "df.head()"
   ]
  },
  {
   "cell_type": "code",
   "execution_count": 37,
   "metadata": {},
   "outputs": [
    {
     "name": "stdout",
     "output_type": "stream",
     "text": [
      "<class 'pandas.core.frame.DataFrame'>\n",
      "RangeIndex: 1002 entries, 0 to 1001\n",
      "Data columns (total 32 columns):\n",
      " #   Column                         Non-Null Count  Dtype  \n",
      "---  ------                         --------------  -----  \n",
      " 0   Country                        1002 non-null   object \n",
      " 1   State                          990 non-null    object \n",
      " 2   City                           981 non-null    object \n",
      " 3   BUYbroccoli                    1002 non-null   int64  \n",
      " 4   BUYasparagus                   1002 non-null   int64  \n",
      " 5   BUYsquash                      1002 non-null   int64  \n",
      " 6   BUYcupcakes                    1002 non-null   int64  \n",
      " 7   BUYcheesecake                  1002 non-null   int64  \n",
      " 8   BUYdonut                       1002 non-null   int64  \n",
      " 9   BUYcocacola                    1002 non-null   int64  \n",
      " 10  BUYmuesli                      1002 non-null   int64  \n",
      " 11  Number_HedonicProducts         1002 non-null   int64  \n",
      " 12  Number_UtilitarianProducts     1002 non-null   int64  \n",
      " 13  TotalProducts                  1002 non-null   int64  \n",
      " 14  Hedonic_Value                  1002 non-null   float64\n",
      " 15  Utilitarian_Value              1002 non-null   float64\n",
      " 16  TotalValue                     1002 non-null   float64\n",
      " 17  Unhealthy_Hedonicproducts      1002 non-null   float64\n",
      " 18  Unhealthy_Utilitarianproducts  1002 non-null   float64\n",
      " 19  Crave_Hedonicproducts          1002 non-null   float64\n",
      " 20  Crave_Utilitarianproducts      1002 non-null   float64\n",
      " 21  Pvalue_Hedonic                 1002 non-null   float64\n",
      " 22  Pvalue_Utilitarian             1002 non-null   float64\n",
      " 23  EBTuser                        1002 non-null   int64  \n",
      " 24  HouseholdType                  1002 non-null   object \n",
      " 25  Female                         1002 non-null   int64  \n",
      " 26  Age                            1002 non-null   int64  \n",
      " 27  Income                         1002 non-null   int64  \n",
      " 28  logincome                      1002 non-null   float64\n",
      " 29  Household_size                 999 non-null    float64\n",
      " 30  Education                      1002 non-null   int64  \n",
      " 31  Degree                         1002 non-null   int64  \n",
      "dtypes: float64(11), int64(17), object(4)\n",
      "memory usage: 250.6+ KB\n"
     ]
    }
   ],
   "source": [
    "df.info()"
   ]
  },
  {
   "cell_type": "code",
   "execution_count": 38,
   "metadata": {},
   "outputs": [],
   "source": [
    "# Split the data into SNAP and non-SNAP households\n",
    "snap_data = df[df['HouseholdType'] == 'SNAP']\n",
    "non_snap_data = df[df['HouseholdType'] == 'Non-SNAP']"
   ]
  },
  {
   "cell_type": "markdown",
   "metadata": {},
   "source": [
    "# Q1 Does the type of food purchased by SNAP houesholds differ from those purchased by non-SNAP housesholds?"
   ]
  },
  {
   "cell_type": "markdown",
   "metadata": {},
   "source": [
    "## Perform statistical tests to compare the purchases of hedonic and utilitarian food items"
   ]
  },
  {
   "cell_type": "code",
   "execution_count": 39,
   "metadata": {},
   "outputs": [
    {
     "name": "stdout",
     "output_type": "stream",
     "text": [
      "Number of Hedonic Products:\n",
      "SNAP vs. Non-SNAP\n",
      "t-statistic: 4.922089850084236\n",
      "p-value: 1.0009968767798903e-06\n"
     ]
    }
   ],
   "source": [
    "# Test for Number of Hedonic Products\n",
    "hedonic_snap = snap_data['Number_HedonicProducts']\n",
    "hedonic_non_snap = non_snap_data['Number_HedonicProducts']\n",
    "t_statistic, p_value = stats.ttest_ind(hedonic_snap, hedonic_non_snap)\n",
    "print(\"Number of Hedonic Products:\")\n",
    "print(\"SNAP vs. Non-SNAP\")\n",
    "print(\"t-statistic:\", t_statistic)\n",
    "print(\"p-value:\", p_value)"
   ]
  },
  {
   "cell_type": "code",
   "execution_count": 40,
   "metadata": {},
   "outputs": [
    {
     "name": "stdout",
     "output_type": "stream",
     "text": [
      "Number of Utilitarian Products:\n",
      "SNAP vs. Non-SNAP\n",
      "t-statistic: -3.6058224820172438\n",
      "p-value: 0.0003265336401862399\n"
     ]
    }
   ],
   "source": [
    "# Test for Number of Utilitarian Products\n",
    "utilitarian_snap = snap_data['Number_UtilitarianProducts']\n",
    "utilitarian_non_snap = non_snap_data['Number_UtilitarianProducts']\n",
    "t_statistic, p_value = stats.ttest_ind(utilitarian_snap, utilitarian_non_snap)\n",
    "print(\"Number of Utilitarian Products:\")\n",
    "print(\"SNAP vs. Non-SNAP\")\n",
    "print(\"t-statistic:\", t_statistic)\n",
    "print(\"p-value:\", p_value)"
   ]
  },
  {
   "cell_type": "code",
   "execution_count": 41,
   "metadata": {},
   "outputs": [
    {
     "data": {
      "image/png": "[encoded data removed]",
      "text/plain": [
       "<Figure size 432x288 with 1 Axes>"
      ]
     },
     "metadata": {
      "needs_background": "light"
     },
     "output_type": "display_data"
    },
    {
     "data": {
      "image/png": "[encoded data removed]",
      "text/plain": [
       "<Figure size 432x288 with 1 Axes>"
      ]
     },
     "metadata": {
      "needs_background": "light"
     },
     "output_type": "display_data"
    }
   ],
   "source": [
    "# Calculate the average number of hedonic and utilitarian products for SNAP and non-SNAP households\n",
    "avg_hedonic_snap = snap_data['Number_HedonicProducts'].mean()\n",
    "avg_hedonic_non_snap = non_snap_data['Number_HedonicProducts'].mean()\n",
    "\n",
    "avg_utilitarian_snap = snap_data['Number_UtilitarianProducts'].mean()\n",
    "avg_utilitarian_non_snap = non_snap_data['Number_UtilitarianProducts'].mean()\n",
    "\n",
    "# Create a bar plot to compare the average number of hedonic products\n",
    "plt.bar(['SNAP', 'Non-SNAP'], [avg_hedonic_snap, avg_hedonic_non_snap])\n",
    "plt.xlabel('Household Type')\n",
    "plt.ylabel('Average Number of Hedonic Products')\n",
    "plt.title('Comparison of Hedonic Products Purchased')\n",
    "plt.show()\n",
    "\n",
    "# Create a bar plot to compare the average number of utilitarian products\n",
    "plt.bar(['SNAP', 'Non-SNAP'], [avg_utilitarian_snap, avg_utilitarian_non_snap])\n",
    "plt.xlabel('Household Type')\n",
    "plt.ylabel('Average Number of Utilitarian Products')\n",
    "plt.title('Comparison of Utilitarian Products Purchased')\n",
    "plt.show()"
   ]
  },
  {
   "cell_type": "markdown",
   "metadata": {},
   "source": [
    "## Interpretation of Results\n",
    "\n",
    "### Number of Hedonic Products:\n",
    "* The t-statistic value of 4.922 suggests that there is a significant difference in the average number of hedonic products purchased between SNAP and non-SNAP households.\n",
    "* The positive t-statistic indicates that, on average, SNAP households tend to purchase a higher number of hedonic products compared to non-SNAP households.\n",
    "* The p-value is 1.0009968767798903e-06 (very close to zero), which is smaller than the conventional significance level of 0.05. This indicates strong evidence to reject the null hypothesis that there is no difference in the number of hedonic products purchased by SNAP and non-SNAP households.\n",
    "\n",
    "### Number of Utilitarian Products:\n",
    "\n",
    "* The t-statistic value of -3.606 suggests that there is a significant difference in the average number of utilitarian products purchased between SNAP and non-SNAP households.\n",
    "* The negative t-statistic indicates that, on average, SNAP households tend to purchase a lower number of utilitarian products compared to non-SNAP households.\n",
    "* The p-value is 0.0003265336401862399 (less than 0.05), indicating strong evidence to reject the null hypothesis that there is no difference in the number of utilitarian products purchased by SNAP and non-SNAP households.\n",
    "\n",
    "In summary, based on these results, it can be concluded that SNAP households tend to purchase a higher number of hedonic products and a lower number of utilitarian products compared to non-SNAP households."
   ]
  },
  {
   "cell_type": "markdown",
   "metadata": {},
   "source": [
    "# Q2 It is often argued that SNAP households’ food consumption habits can be attributed to their lower income and/or education. Based on these data, does income and education explain the consumption pattern of SNAP households?"
   ]
  },
  {
   "cell_type": "markdown",
   "metadata": {},
   "source": [
    "## Perform multiple regression"
   ]
  },
  {
   "cell_type": "code",
   "execution_count": 42,
   "metadata": {},
   "outputs": [
    {
     "name": "stdout",
     "output_type": "stream",
     "text": [
      "Dependent Variable: Number_HedonicProducts\n",
      "                              OLS Regression Results                              \n",
      "==================================================================================\n",
      "Dep. Variable:     Number_HedonicProducts   R-squared:                       0.013\n",
      "Model:                                OLS   Adj. R-squared:                  0.000\n",
      "Method:                     Least Squares   F-statistic:                     1.027\n",
      "Date:                    Tue, 04 Jul 2023   Prob (F-statistic):              0.361\n",
      "Time:                            23:57:42   Log-Likelihood:                -236.89\n",
      "No. Observations:                     156   AIC:                             479.8\n",
      "Df Residuals:                         153   BIC:                             488.9\n",
      "Df Model:                               2                                         \n",
      "Covariance Type:                nonrobust                                         \n",
      "==============================================================================\n",
      "                 coef    std err          t      P>|t|      [0.025      0.975]\n",
      "------------------------------------------------------------------------------\n",
      "const          2.1938      0.274      8.017      0.000       1.653       2.734\n",
      "Income      3.513e-06   3.53e-06      0.995      0.321   -3.46e-06    1.05e-05\n",
      "Education     -0.0794      0.063     -1.262      0.209      -0.204       0.045\n",
      "==============================================================================\n",
      "Omnibus:                        3.070   Durbin-Watson:                   1.737\n",
      "Prob(Omnibus):                  0.215   Jarque-Bera (JB):                2.177\n",
      "Skew:                          -0.105   Prob(JB):                        0.337\n",
      "Kurtosis:                       2.461   Cond. No.                     1.55e+05\n",
      "==============================================================================\n",
      "\n",
      "Warnings:\n",
      "[1] Standard Errors assume that the covariance matrix of the errors is correctly specified.\n",
      "[2] The condition number is large, 1.55e+05. This might indicate that there are\n",
      "strong multicollinearity or other numerical problems.\n",
      "\n",
      "Dependent Variable: Number_UtilitarianProducts\n",
      "                                OLS Regression Results                                \n",
      "======================================================================================\n",
      "Dep. Variable:     Number_UtilitarianProducts   R-squared:                       0.010\n",
      "Model:                                    OLS   Adj. R-squared:                 -0.003\n",
      "Method:                         Least Squares   F-statistic:                    0.7805\n",
      "Date:                        Tue, 04 Jul 2023   Prob (F-statistic):              0.460\n",
      "Time:                                23:57:42   Log-Likelihood:                -217.94\n",
      "No. Observations:                         156   AIC:                             441.9\n",
      "Df Residuals:                             153   BIC:                             451.0\n",
      "Df Model:                                   2                                         \n",
      "Covariance Type:                    nonrobust                                         \n",
      "==============================================================================\n",
      "                 coef    std err          t      P>|t|      [0.025      0.975]\n",
      "------------------------------------------------------------------------------\n",
      "const          1.7181      0.242      7.089      0.000       1.239       2.197\n",
      "Income     -3.206e-06   3.13e-06     -1.026      0.307   -9.38e-06    2.97e-06\n",
      "Education      0.0537      0.056      0.965      0.336      -0.056       0.164\n",
      "==============================================================================\n",
      "Omnibus:                        4.682   Durbin-Watson:                   2.039\n",
      "Prob(Omnibus):                  0.096   Jarque-Bera (JB):                3.141\n",
      "Skew:                           0.179   Prob(JB):                        0.208\n",
      "Kurtosis:                       2.404   Cond. No.                     1.55e+05\n",
      "==============================================================================\n",
      "\n",
      "Warnings:\n",
      "[1] Standard Errors assume that the covariance matrix of the errors is correctly specified.\n",
      "[2] The condition number is large, 1.55e+05. This might indicate that there are\n",
      "strong multicollinearity or other numerical problems.\n",
      "\n"
     ]
    }
   ],
   "source": [
    "# Prepare the independent variables (income and education)\n",
    "independent_vars = ['Income', 'Education']\n",
    "\n",
    "# Prepare the dependent variables (consumption patterns)\n",
    "dependent_vars = ['Number_HedonicProducts', 'Number_UtilitarianProducts']\n",
    "\n",
    "# Subset the data for SNAP households\n",
    "snap_data_subset = snap_data[independent_vars + dependent_vars].dropna()\n",
    "\n",
    "# Add a constant term to the independent variables\n",
    "independent_vars_with_const = sm.add_constant(snap_data_subset[independent_vars])\n",
    "\n",
    "# Perform multiple linear regression for each dependent variable\n",
    "for var in dependent_vars:\n",
    "    model = sm.OLS(snap_data_subset[var], independent_vars_with_const)\n",
    "    results = model.fit()\n",
    "    print(f\"Dependent Variable: {var}\")\n",
    "    print(results.summary())\n",
    "    print()"
   ]
  },
  {
   "cell_type": "code",
   "execution_count": null,
   "metadata": {},
   "outputs": [],
   "source": []
  }
 ],
 "metadata": {
  "kernelspec": {
   "display_name": "Python 3",
   "language": "python",
   "name": "python3"
  },
  "language_info": {
   "codemirror_mode": {
    "name": "ipython",
    "version": 3
   },
   "file_extension": ".py",
   "mimetype": "text/x-python",
   "name": "python",
   "nbconvert_exporter": "python",
   "pygments_lexer": "ipython3",
   "version": "3.8.3"
  }
 },
 "nbformat": 4,
 "nbformat_minor": 5
}
